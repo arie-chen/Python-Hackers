{
 "cells": [
  {
   "cell_type": "code",
   "execution_count": 7,
   "metadata": {},
   "outputs": [
    {
     "name": "stdout",
     "output_type": "stream",
     "text": [
      "municipal_inventory_url_alameda.pdf  is invalid pdf\n",
      "municipal_inventory_url_antioch.pdf  is invalid pdf\n",
      "municipal_inventory_url_arroyo_grande.pdf  is invalid pdf\n"
     ]
    },
    {
     "name": "stderr",
     "output_type": "stream",
     "text": [
      "PdfReadWarning: Xref table not zero-indexed. ID numbers for objects will be corrected. [pdf.py:1736]\n"
     ]
    }
   ],
   "source": [
    "import pandas as pd\n",
    "from requests import get  # to make GET request\n",
    "import os\n",
    "import tabula\n",
    "from PyPDF2 import PdfFileReader \n",
    "\n",
    "## https://stackoverflow.com/questions/7243750/download-file-from-web-in-python-3\n",
    "\n",
    "def download(url, file_name):\n",
    "    # open in binary mode\n",
    "    with open(file_name, \"wb\") as file:\n",
    "        # get request\n",
    "        response = get(url)\n",
    "        # write to file\n",
    "        file.write(response.content)\n",
    "        \n",
    "def clean_phrase(phrase):\n",
    "    return phrase.replace(\" \", \"_\").lower()\n",
    "\n",
    "df = pd.read_csv('Cities.csv')\n",
    "\n",
    "for counter, element in enumerate(df.iloc[:50,14]):\n",
    "    if type(element) is str and \".pdf\" in element:\n",
    "        doc_name = clean_phrase(df.columns[14] + \"_\" + df.iloc[counter, 1])\n",
    "        pdf_name = doc_name + \".pdf\"\n",
    "        csv_name = doc_name + \".csv\"\n",
    "        \n",
    "        download(element, pdf_name)\n",
    "        try :\n",
    "            mypdf = PdfFileReader(open( pdf_name, 'rb'))\n",
    "            tabula.convert_into(pdf_name, csv_name, multiple_tables=True, pages='all')\n",
    "        except:\n",
    "            print(pdf_name,' is invalid pdf')\n",
    "        \n",
    "        os.remove(pdf_name)\n",
    "        \n",
    "        "
   ]
  },
  {
   "cell_type": "code",
   "execution_count": null,
   "metadata": {},
   "outputs": [],
   "source": []
  },
  {
   "cell_type": "code",
   "execution_count": null,
   "metadata": {},
   "outputs": [],
   "source": []
  }
 ],
 "metadata": {
  "kernelspec": {
   "display_name": "Python 3",
   "language": "python",
   "name": "python3"
  },
  "language_info": {
   "codemirror_mode": {
    "name": "ipython",
    "version": 3
   },
   "file_extension": ".py",
   "mimetype": "text/x-python",
   "name": "python",
   "nbconvert_exporter": "python",
   "pygments_lexer": "ipython3",
   "version": "3.7.1"
  }
 },
 "nbformat": 4,
 "nbformat_minor": 2
}
