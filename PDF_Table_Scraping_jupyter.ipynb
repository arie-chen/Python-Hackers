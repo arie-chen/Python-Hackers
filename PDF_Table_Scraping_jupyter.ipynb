{
 "cells": [
  {
   "cell_type": "code",
   "execution_count": 97,
   "metadata": {},
   "outputs": [],
   "source": [
    "import PyPDF2\n",
    "import csv\n",
    "import json\n",
    "import pandas as pd\n",
    "import matplotlib.pyplot as plt\n",
    "import camelot\n",
    "import tabula\n",
    "import re\n",
    "import requests\n",
    "import os"
   ]
  },
  {
   "cell_type": "code",
   "execution_count": 106,
   "metadata": {},
   "outputs": [],
   "source": [
    "def download(url, file_name):\n",
    "    # open in binary mode\n",
    "    with open(file_name, \"wb\") as file:\n",
    "        # get request\n",
    "        response = requests.get(url)\n",
    "        # write to file\n",
    "        file.write(response.content)\n",
    "#Load list of urls to extract pdfs from\n",
    "df = pd.read_csv('Cities.csv')\n",
    "#iterate over df and access links, download pdfs, convert tables to csv\n",
    "for row in df[:14].values:\n",
    "    for i in row:\n",
    "        if '.pdf' in str(i):\n",
    "            if '200' in str(requests.get(str(i))):\n",
    "                download(str(i), str(row[1])+'.pdf')\n",
    "                tables = tabula.convert_into(str(row[1])+'.pdf', str(row[1])+'.csv',output_format='csv',\n",
    "                                             multiple_tables=True, pages='all')\n",
    "                os.remove(str(row[1])+'.pdf')"
   ]
  }
 ],
 "metadata": {
  "kernelspec": {
   "display_name": "Python 3",
   "language": "python",
   "name": "python3"
  },
  "language_info": {
   "codemirror_mode": {
    "name": "ipython",
    "version": 3
   },
   "file_extension": ".py",
   "mimetype": "text/x-python",
   "name": "python",
   "nbconvert_exporter": "python",
   "pygments_lexer": "ipython3",
   "version": "3.6.2"
  }
 },
 "nbformat": 4,
 "nbformat_minor": 2
}
