{
 "cells": [
  {
   "cell_type": "code",
   "execution_count": 2,
   "metadata": {},
   "outputs": [],
   "source": [
    "import PyPDF2\n",
    "import csv\n",
    "import json\n",
    "import pandas as pd\n",
    "import matplotlib.pyplot as plt\n",
    "import camelot\n",
    "import tabula\n",
    "import requests\n",
    "import os\n",
    "import re"
   ]
  },
  {
   "cell_type": "code",
   "execution_count": 4,
   "metadata": {},
   "outputs": [],
   "source": [
    "def download(url, file_name):\n",
    "    # open in binary mode\n",
    "    with open(file_name, \"wb\") as file:\n",
    "        # get request\n",
    "        response = requests.get(url)\n",
    "        # write to file\n",
    "        file.write(response.content)\n",
    "#iterate over df and access links, download pdfs, convert tables to csv\n",
    "def get_tables(csv,start=0, end=-1):\n",
    "    df = pd.read_csv(csv)\n",
    "    tables = []\n",
    "    file_name = []\n",
    "    links = []\n",
    "    for row in df[start:end].values:\n",
    "        for i in row:\n",
    "            if 'http' in str(i):\n",
    "                if '200' in str(requests.get(str(i))):\n",
    "                    if 'application/pdf' in str(requests.get(str(i)).headers['Content-Type']) and str(i) not in links:\n",
    "                        links.append(str(i))\n",
    "                        download(str(i), str(row[1])+'.pdf')\n",
    "                        pages, names = lookup_table(str(row[1])+'.pdf')\n",
    "                        result = pd.DataFrame([])\n",
    "                        tables += tabula.read_pdf(str(row[1])+'.pdf',multiple_tables=True, pages=pages)\n",
    "                        if str(row[1])+'.pdf' not in file_name:\n",
    "                            file_name.append(str(row[1])+'.pdf')\n",
    "                        x,y=1,0\n",
    "                        for t in tables:\n",
    "                            try:\n",
    "#                                 t.columns = t.iloc[0]\n",
    "#                                 t.drop(t.index[0], inplace=True)\n",
    "                                t['jurisdiction'] = str(row[1])\n",
    "                                t['location_type'] = str(row[2])\n",
    "                                t['table_number'] = x\n",
    "#                                 t['table_name'] = names[y]\n",
    "#                                 tables.append(t)\n",
    "                                x += 1\n",
    "                                y += 1\n",
    "                                with open('extract_cities.csv', 'a') as f:\n",
    "                                    t.to_csv(f)\n",
    "                            except:\n",
    "                                continue\n",
    "                        tables = []\n",
    "                        os.remove(str(row[1])+'.pdf')\n",
    "def lookup_table(pdf_doc):\n",
    "    string = r'([T|t]{1}able\\s[\\w+\\d+].+)\\n'\n",
    "    doc = PyPDF2.PdfFileReader(open(pdf_doc, 'rb'))\n",
    "    pages = []\n",
    "    names = []\n",
    "    for i in range(doc.getNumPages()):\n",
    "        page = doc.getPage(i)\n",
    "        text = page.extractText()\n",
    "        if re.search(string, text):\n",
    "            pages.append(i)\n",
    "            names += re.findall(r'[T|t]{1}able\\s[\\d*\\w*][:|\\.|\\n|-](.+)\\n', text)\n",
    "    return pages, names"
   ]
  },
  {
   "cell_type": "code",
   "execution_count": 5,
   "metadata": {
    "scrolled": false
   },
   "outputs": [
    {
     "ename": "PermissionError",
     "evalue": "[WinError 32] The process cannot access the file because it is being used by another process: 'Apple Valley.pdf'",
     "output_type": "error",
     "traceback": [
      "\u001b[1;31m---------------------------------------------------------------------------\u001b[0m",
      "\u001b[1;31mPermissionError\u001b[0m                           Traceback (most recent call last)",
      "\u001b[1;32m<ipython-input-5-74aaf5643f1f>\u001b[0m in \u001b[0;36m<module>\u001b[1;34m()\u001b[0m\n\u001b[0;32m      1\u001b[0m \u001b[1;31m#Load list of urls to extract pdfs from\u001b[0m\u001b[1;33m\u001b[0m\u001b[1;33m\u001b[0m\u001b[0m\n\u001b[0;32m      2\u001b[0m \u001b[1;33m\u001b[0m\u001b[0m\n\u001b[1;32m----> 3\u001b[1;33m \u001b[0mget_tables\u001b[0m\u001b[1;33m(\u001b[0m\u001b[1;34m'Cities.csv'\u001b[0m\u001b[1;33m,\u001b[0m \u001b[1;36m11\u001b[0m\u001b[1;33m,\u001b[0m \u001b[1;36m15\u001b[0m\u001b[1;33m)\u001b[0m\u001b[1;33m\u001b[0m\u001b[0m\n\u001b[0m",
      "\u001b[1;32m<ipython-input-4-6976194f3ad9>\u001b[0m in \u001b[0;36mget_tables\u001b[1;34m(csv, start, end)\u001b[0m\n\u001b[0;32m     41\u001b[0m                                 \u001b[1;32mcontinue\u001b[0m\u001b[1;33m\u001b[0m\u001b[0m\n\u001b[0;32m     42\u001b[0m                         \u001b[0mtables\u001b[0m \u001b[1;33m=\u001b[0m \u001b[1;33m[\u001b[0m\u001b[1;33m]\u001b[0m\u001b[1;33m\u001b[0m\u001b[0m\n\u001b[1;32m---> 43\u001b[1;33m                         \u001b[0mos\u001b[0m\u001b[1;33m.\u001b[0m\u001b[0mremove\u001b[0m\u001b[1;33m(\u001b[0m\u001b[0mstr\u001b[0m\u001b[1;33m(\u001b[0m\u001b[0mrow\u001b[0m\u001b[1;33m[\u001b[0m\u001b[1;36m1\u001b[0m\u001b[1;33m]\u001b[0m\u001b[1;33m)\u001b[0m\u001b[1;33m+\u001b[0m\u001b[1;34m'.pdf'\u001b[0m\u001b[1;33m)\u001b[0m\u001b[1;33m\u001b[0m\u001b[0m\n\u001b[0m\u001b[0;32m     44\u001b[0m \u001b[1;31m# def delete_files(file_name_list):\u001b[0m\u001b[1;33m\u001b[0m\u001b[1;33m\u001b[0m\u001b[0m\n\u001b[0;32m     45\u001b[0m \u001b[1;31m#     for file in file_name_list:\u001b[0m\u001b[1;33m\u001b[0m\u001b[1;33m\u001b[0m\u001b[0m\n",
      "\u001b[1;31mPermissionError\u001b[0m: [WinError 32] The process cannot access the file because it is being used by another process: 'Apple Valley.pdf'"
     ]
    }
   ],
   "source": [
    "#Load list of urls to extract pdfs from\n",
    "\n",
    "get_tables('Cities.csv', 11, 15)\n"
   ]
  }
 ],
 "metadata": {
  "kernelspec": {
   "display_name": "Python 3",
   "language": "python",
   "name": "python3"
  },
  "language_info": {
   "codemirror_mode": {
    "name": "ipython",
    "version": 3
   },
   "file_extension": ".py",
   "mimetype": "text/x-python",
   "name": "python",
   "nbconvert_exporter": "python",
   "pygments_lexer": "ipython3",
   "version": "3.6.2"
  }
 },
 "nbformat": 4,
 "nbformat_minor": 2
}
