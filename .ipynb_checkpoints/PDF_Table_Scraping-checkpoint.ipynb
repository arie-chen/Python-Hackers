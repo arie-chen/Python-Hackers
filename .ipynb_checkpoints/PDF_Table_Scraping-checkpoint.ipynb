{
 "cells": [
  {
   "cell_type": "code",
   "execution_count": 1,
   "metadata": {},
   "outputs": [],
   "source": [
    "import PyPDF2\n",
    "import csv\n",
    "import json\n",
    "import pandas as pd\n",
    "import matplotlib.pyplot as plt\n",
    "import camelot\n",
    "import tabula\n",
    "import requests\n",
    "import os\n",
    "import re"
   ]
  },
  {
   "cell_type": "code",
   "execution_count": 57,
   "metadata": {},
   "outputs": [],
   "source": [
    "def download(url, file_name):\n",
    "    # open in binary mode\n",
    "    with open(file_name, \"wb\") as file:\n",
    "        # get request\n",
    "        response = requests.get(url)\n",
    "        # write to file\n",
    "        file.write(response.content)\n",
    "#iterate over df and access links, download pdfs, convert tables to csv\n",
    "def get_tables(csv,start=0, end=-1):\n",
    "    df = pd.read_csv(csv)\n",
    "    tables = []\n",
    "    for row in df[start:end].values:\n",
    "        for i in row:\n",
    "            if 'http' in str(i):\n",
    "                if '200' in str(requests.get(str(i))):\n",
    "                    if 'application/pdf' in str(requests.get(str(i)).headers['Content-Type']):\n",
    "                        download(str(i), str(row[1])+'.pdf')\n",
    "                        pages, names = lookup_table(str(row[1])+'.pdf')\n",
    "                        result = pd.DataFrame([])\n",
    "                        tables += tabula.read_pdf(str(row[1])+'.pdf',multiple_tables=True, pages=pages)\n",
    "                        x,y=1,0\n",
    "                        for t in tables:\n",
    "                            try:\n",
    "#                                 t.columns = t.iloc[0]\n",
    "#                                 t.drop(t.index[0], inplace=True)\n",
    "                                t['jurisdiction'] = str(row[1])\n",
    "                                t['location_type'] = str(row[2])\n",
    "                                t['table_number'] = x\n",
    "#                                 t['table_name'] = names[y]\n",
    "#                                 tables.append(t)\n",
    "                                x += 1\n",
    "                                y += 1\n",
    "                                with open('extract_cities.csv', 'a') as f:\n",
    "                                    t.to_csv(f)\n",
    "                            except:\n",
    "                                continue\n",
    "#                     os.remove(str(row[1])+'.pdf')\n",
    "def lookup_table(pdf_doc):\n",
    "    string = r'([T|t]{1}able\\s[\\w+\\d+].+)\\n'\n",
    "    doc = PyPDF2.PdfFileReader(open(pdf_doc, 'rb'))\n",
    "    pages = []\n",
    "    names = []\n",
    "    for i in range(doc.getNumPages()):\n",
    "        page = doc.getPage(i)\n",
    "        text = page.extractText()\n",
    "        if re.search(string, text):\n",
    "            pages.append(i)\n",
    "            names += re.findall(r'[T|t]{1}able\\s[\\d*\\w*][:|\\.|\\n|-](.+)\\n', text)\n",
    "    return pages, names"
   ]
  },
  {
   "cell_type": "code",
   "execution_count": 58,
   "metadata": {
    "scrolled": true
   },
   "outputs": [
    {
     "name": "stderr",
     "output_type": "stream",
     "text": [
      "PdfReadWarning: Xref table not zero-indexed. ID numbers for objects will be corrected. [pdf.py:1736]\n"
     ]
    }
   ],
   "source": [
    "#Load list of urls to extract pdfs from\n",
    "\n",
    "get_tables('Cities.csv',3,5)\n"
   ]
  }
 ],
 "metadata": {
  "kernelspec": {
   "display_name": "Python 3",
   "language": "python",
   "name": "python3"
  },
  "language_info": {
   "codemirror_mode": {
    "name": "ipython",
    "version": 3
   },
   "file_extension": ".py",
   "mimetype": "text/x-python",
   "name": "python",
   "nbconvert_exporter": "python",
   "pygments_lexer": "ipython3",
   "version": "3.6.2"
  }
 },
 "nbformat": 4,
 "nbformat_minor": 2
}
